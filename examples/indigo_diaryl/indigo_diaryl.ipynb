{
  "nbformat": 4,
  "nbformat_minor": 0,
  "metadata": {
    "colab": {
      "provenance": [],
      "authorship_tag": "ABX9TyNA4ySTl7kHdyr8bKtBIBwd",
      "include_colab_link": true
    },
    "kernelspec": {
      "name": "python3",
      "display_name": "Python 3"
    },
    "language_info": {
      "name": "python"
    }
  },
  "cells": [
    {
      "cell_type": "markdown",
      "metadata": {
        "id": "view-in-github",
        "colab_type": "text"
      },
      "source": [
        "<a href=\"https://colab.research.google.com/github/peculab/DFTDescriptorPipeline/blob/main/examples/indigo_diaryl/indigo_diaryl.ipynb\" target=\"_parent\"><img src=\"https://colab.research.google.com/assets/colab-badge.svg\" alt=\"Open In Colab\"/></a>"
      ]
    },
    {
      "cell_type": "code",
      "source": [
        "!rm -rf /usr/local/lib/python3.11/dist-packages/descriptors"
      ],
      "metadata": {
        "id": "kg02DJwkUVaQ"
      },
      "execution_count": 8,
      "outputs": []
    },
    {
      "cell_type": "code",
      "source": [
        "# ✅ Reset environment\n",
        "%cd /content\n",
        "import shutil, os, sys, importlib\n",
        "\n",
        "# 🔁 Uninstall pip-installed descriptors\n",
        "!pip uninstall -y descriptors\n",
        "\n",
        "# 🔥 Clear cached modules\n",
        "for k in list(sys.modules.keys()):\n",
        "    if k.startswith(\"descriptors\"):\n",
        "        del sys.modules[k]\n",
        "\n",
        "# 🧹 Remove previous repo\n",
        "if os.path.exists(\"DFTDescriptorPipeline\"):\n",
        "    shutil.rmtree(\"DFTDescriptorPipeline\")"
      ],
      "metadata": {
        "colab": {
          "base_uri": "https://localhost:8080/"
        },
        "id": "8Q0nCEnWmmst",
        "outputId": "76bd467e-4aad-4275-8821-ac95d18a6951"
      },
      "execution_count": 9,
      "outputs": [
        {
          "output_type": "stream",
          "name": "stdout",
          "text": [
            "/content\n",
            "\u001b[33mWARNING: Skipping descriptors as it is not installed.\u001b[0m\u001b[33m\n",
            "\u001b[0m"
          ]
        }
      ]
    },
    {
      "cell_type": "code",
      "source": [
        "# ✅ Install required packages\n",
        "!pip install morfeus-ml scikit-learn joblib matplotlib openpyxl\n",
        "\n",
        "# ✅ Clone the latest repo\n",
        "!git clone https://github.com/peculab/DFTDescriptorPipeline.git"
      ],
      "metadata": {
        "colab": {
          "base_uri": "https://localhost:8080/"
        },
        "id": "merLdr9M1_LR",
        "outputId": "00ffcea8-b3fd-4a75-d828-3f39963f76b0"
      },
      "execution_count": 10,
      "outputs": [
        {
          "output_type": "stream",
          "name": "stdout",
          "text": [
            "Requirement already satisfied: morfeus-ml in /usr/local/lib/python3.11/dist-packages (0.7.2)\n",
            "Requirement already satisfied: scikit-learn in /usr/local/lib/python3.11/dist-packages (1.6.1)\n",
            "Requirement already satisfied: joblib in /usr/local/lib/python3.11/dist-packages (1.5.0)\n",
            "Requirement already satisfied: matplotlib in /usr/local/lib/python3.11/dist-packages (3.10.0)\n",
            "Requirement already satisfied: openpyxl in /usr/local/lib/python3.11/dist-packages (3.1.5)\n",
            "Requirement already satisfied: fire in /usr/local/lib/python3.11/dist-packages (from morfeus-ml) (0.7.0)\n",
            "Requirement already satisfied: numpy in /usr/local/lib/python3.11/dist-packages (from morfeus-ml) (2.0.2)\n",
            "Requirement already satisfied: scipy in /usr/local/lib/python3.11/dist-packages (from morfeus-ml) (1.15.3)\n",
            "Requirement already satisfied: threadpoolctl>=3.1.0 in /usr/local/lib/python3.11/dist-packages (from scikit-learn) (3.6.0)\n",
            "Requirement already satisfied: contourpy>=1.0.1 in /usr/local/lib/python3.11/dist-packages (from matplotlib) (1.3.2)\n",
            "Requirement already satisfied: cycler>=0.10 in /usr/local/lib/python3.11/dist-packages (from matplotlib) (0.12.1)\n",
            "Requirement already satisfied: fonttools>=4.22.0 in /usr/local/lib/python3.11/dist-packages (from matplotlib) (4.58.0)\n",
            "Requirement already satisfied: kiwisolver>=1.3.1 in /usr/local/lib/python3.11/dist-packages (from matplotlib) (1.4.8)\n",
            "Requirement already satisfied: packaging>=20.0 in /usr/local/lib/python3.11/dist-packages (from matplotlib) (24.2)\n",
            "Requirement already satisfied: pillow>=8 in /usr/local/lib/python3.11/dist-packages (from matplotlib) (11.2.1)\n",
            "Requirement already satisfied: pyparsing>=2.3.1 in /usr/local/lib/python3.11/dist-packages (from matplotlib) (3.2.3)\n",
            "Requirement already satisfied: python-dateutil>=2.7 in /usr/local/lib/python3.11/dist-packages (from matplotlib) (2.9.0.post0)\n",
            "Requirement already satisfied: et-xmlfile in /usr/local/lib/python3.11/dist-packages (from openpyxl) (2.0.0)\n",
            "Requirement already satisfied: six>=1.5 in /usr/local/lib/python3.11/dist-packages (from python-dateutil>=2.7->matplotlib) (1.17.0)\n",
            "Requirement already satisfied: termcolor in /usr/local/lib/python3.11/dist-packages (from fire->morfeus-ml) (3.1.0)\n",
            "Cloning into 'DFTDescriptorPipeline'...\n",
            "remote: Enumerating objects: 498, done.\u001b[K\n",
            "remote: Counting objects: 100% (177/177), done.\u001b[K\n",
            "remote: Compressing objects: 100% (135/135), done.\u001b[K\n",
            "remote: Total 498 (delta 92), reused 91 (delta 34), pack-reused 321 (from 1)\u001b[K\n",
            "Receiving objects: 100% (498/498), 35.30 MiB | 19.89 MiB/s, done.\n",
            "Resolving deltas: 100% (300/300), done.\n",
            "Updating files: 100% (96/96), done.\n"
          ]
        }
      ]
    },
    {
      "cell_type": "code",
      "source": [
        "# ✅ Set module path\n",
        "from morfeus import read_xyz, Sterimol\n",
        "from morfeus.utils import get_radii\n",
        "\n",
        "import shutil, os, sys, importlib\n",
        "sys.path.insert(0, \"/content/DFTDescriptorPipeline/descriptors\")\n",
        "import extractor_regr\n",
        "import glob, os\n",
        "importlib.reload(extractor_regr)"
      ],
      "metadata": {
        "colab": {
          "base_uri": "https://localhost:8080/"
        },
        "id": "-gRQSIyU2BHZ",
        "outputId": "f45e24a1-1121-4a8d-c12d-574d6e38927c"
      },
      "execution_count": 11,
      "outputs": [
        {
          "output_type": "execute_result",
          "data": {
            "text/plain": [
              "<module 'extractor_regr' from '/content/DFTDescriptorPipeline/descriptors/extractor_regr.py'>"
            ]
          },
          "metadata": {},
          "execution_count": 11
        }
      ]
    },
    {
      "cell_type": "code",
      "source": [
        "data_dir = \"/content/DFTDescriptorPipeline/examples/indigo_diaryl\"\n",
        "xlsx_path = glob.glob(os.path.join(data_dir, \"*.xlsx\"))[0]\n",
        "log_folder = os.path.join(data_dir, \"logfiles\")"
      ],
      "metadata": {
        "id": "5sPLRAZM2CbU"
      },
      "execution_count": 12,
      "outputs": []
    },
    {
      "cell_type": "code",
      "source": [
        "# ✅ Create Ar = Ar2\n",
        "import pandas as pd\n",
        "\n",
        "modified_xlsx_path = \"/content/DFTDescriptorPipeline/examples/azoarene/indigo_diaryl_with_Ar.xlsx\"\n",
        "\n",
        "df = pd.read_excel(xlsx_path)\n",
        "\n",
        "df[\"Ar\"] = df[\"Ar2\"]\n",
        "\n",
        "df.to_excel(modified_xlsx_path, index=False)\n",
        "\n",
        "print(\"✔ new xlsx_path =\", modified_xlsx_path)"
      ],
      "metadata": {
        "colab": {
          "base_uri": "https://localhost:8080/"
        },
        "id": "wAqGc_yp2UDO",
        "outputId": "1dc833f7-77b2-4164-e9cc-d59c59db4870"
      },
      "execution_count": 13,
      "outputs": [
        {
          "output_type": "stream",
          "name": "stdout",
          "text": [
            "✔ new xlsx_path = /content/DFTDescriptorPipeline/examples/azoarene/indigo_diaryl_with_Ar.xlsx\n"
          ]
        }
      ]
    },
    {
      "cell_type": "code",
      "source": [
        "# One click execution\n",
        "df, results, best_model = extractor_regr.run_full_pipeline(\n",
        "    log_folder=log_folder,\n",
        "    xlsx_path=modified_xlsx_path,\n",
        "    target='ln(kobs)'\n",
        ")"
      ],
      "metadata": {
        "colab": {
          "base_uri": "https://localhost:8080/",
          "height": 1000
        },
        "id": "zrMZm8Ko2VmD",
        "outputId": "f3fa4947-c0ba-4445-d80f-0037e7b6b682"
      },
      "execution_count": 14,
      "outputs": [
        {
          "output_type": "stream",
          "name": "stdout",
          "text": [
            "\n",
            "[STEP1] Read Excel: /content/DFTDescriptorPipeline/examples/azoarene/indigo_diaryl_with_Ar.xlsx\n",
            "\n",
            "==== [1/13] [4-OMe] Processing log: /content/DFTDescriptorPipeline/examples/indigo_diaryl/logfiles/4-OMe.log ====\n",
            "  polarizability: 108.24033333333334\n",
            "  HOMO: -0.29463, LUMO: -0.01555\n",
            "  dipole: 3.6383\n",
            "  nbo_section: ok\n",
            "Found C1: 7, C2: 6, A: 9, B: 16, D: 8, F: 1, G: 5\n",
            "  atom index: c=7, e=6, a=9, b=16, d=8, f=1, g=5\n",
            "  NBO values: 1.99444, -1.01736, 1.97621, -0.8253\n",
            "  NBO charges: C1=0.80569, C2=-0.21608, O1=-0.61072, O2=-0.70529\n",
            "  frequencies: I_C_O=444.9562, v_C_O=1839.2772\n",
            "  C1, C2, L_C1_C2: (2.582619, -0.022612, 6.8e-05), (1.106499, 0.051092, 3.2e-05), 1.4779589085329812\n",
            "\n",
            "==== [2/13] [H] Processing log: /content/DFTDescriptorPipeline/examples/indigo_diaryl/logfiles/H.log ====\n",
            "  polarizability: 87.51300000000002\n",
            "  HOMO: -0.32424, LUMO: -0.02742\n",
            "  dipole: 2.0759\n",
            "  nbo_section: ok\n",
            "Found C1: 7, C2: 6, A: 9, B: 15, D: 8, F: 1, G: 5\n",
            "  atom index: c=7, e=6, a=9, b=15, d=8, f=1, g=5\n",
            "  NBO values: 1.99444, -1.02068, 1.97611, -0.83139\n",
            "  NBO charges: C1=0.80505, C2=-0.18103, O1=-0.6028, O2=-0.70145\n",
            "  frequencies: I_C_O=391.1199, v_C_O=1848.0244\n",
            "  C1, C2, L_C1_C2: (-1.696707, 0.122869, 8e-06), (-0.214245, 0.029928, 3e-06), 1.4853725495477557\n",
            "\n",
            "==== [3/13] [4-F] Processing log: /content/DFTDescriptorPipeline/examples/indigo_diaryl/logfiles/4-F.log ====\n",
            "  polarizability: 87.80400000000002\n",
            "  HOMO: -0.32452, LUMO: -0.02792\n",
            "  dipole: 1.4014\n",
            "  nbo_section: ok\n",
            "Found C1: 8, C2: 6, A: 10, B: 15, D: 9, F: 1, G: 5\n",
            "  atom index: c=8, e=6, a=10, b=15, d=9, f=1, g=5\n",
            "  NBO values: 1.99451, -1.02564, 1.97635, -0.83724\n",
            "  NBO charges: C1=0.8056, C2=-0.20006, O1=-0.60316, O2=-0.70209\n",
            "  frequencies: I_C_O=399.485, v_C_O=1847.964\n",
            "  C1, C2, L_C1_C2: (2.127344, 0.113339, -2.8e-05), (0.646646, 0.032875, -1.2e-05), 1.4828826732941482\n",
            "\n",
            "==== [4/13] [4-CF3] Processing log: /content/DFTDescriptorPipeline/examples/indigo_diaryl/logfiles/4-CF3.log ====\n",
            "  polarizability: 101.24900000000001\n",
            "  HOMO: -0.34295, LUMO: -0.04827\n",
            "  dipole: 2.0013\n",
            "  nbo_section: ok\n",
            "Found C1: 7, C2: 6, A: 9, B: 18, D: 8, F: 1, G: 5\n",
            "  atom index: c=7, e=6, a=9, b=18, d=8, f=1, g=5\n",
            "  NBO values: 1.99442, -0.99788, 1.97656, -0.82664\n",
            "  NBO charges: C1=0.80403, C2=-0.1591, O1=-0.59318, O2=-0.69817\n",
            "  frequencies: I_C_O=375.6943, v_C_O=1854.7548\n",
            "  C1, C2, L_C1_C2: (3.1935, 0.097007, 1.4e-05), (1.705485, 0.039836, 4e-06), 1.489112878047195\n",
            "\n",
            "==== [5/13] [4-CN] Processing log: /content/DFTDescriptorPipeline/examples/indigo_diaryl/logfiles/4-CN.log ====\n",
            "  polarizability: 106.04233333333332\n",
            "  HOMO: -0.34281, LUMO: -0.06346\n",
            "  dipole: 3.577\n",
            "  nbo_section: ok\n",
            "Found C1: 7, C2: 6, A: 9, B: 16, D: 8, F: 1, G: 5\n",
            "  atom index: c=7, e=6, a=9, b=16, d=8, f=1, g=5\n",
            "  NBO values: 1.99449, -1.04192, 1.97702, -0.8559\n",
            "  NBO charges: C1=0.8021, C2=-0.15334, O1=-0.59032, O2=-0.69731\n",
            "  frequencies: I_C_O=393.2485, v_C_O=1855.5075\n",
            "  C1, C2, L_C1_C2: (-2.439868, 0.105899, 0.000136), (-0.952061, 0.032442, 7.7e-05), 1.4896192814202562\n",
            "\n",
            "==== [6/13] [4-NO2] Processing log: /content/DFTDescriptorPipeline/examples/indigo_diaryl/logfiles/4-NO2.log ====\n",
            "  polarizability: 105.60266666666666\n",
            "  HOMO: -0.35252, LUMO: -0.08032\n",
            "  dipole: 3.63\n",
            "  nbo_section: ok\n",
            "[WARN] No C1-C2 pairs with the required bonding pattern found, returning last found values: (7, 6, 9, 17, 9, None, None)\n",
            "  atom index: c=7, e=6, a=9, b=17, d=9, f=None, g=None\n",
            "  NBO values: 1.99419, -1.03789, 1.97763, -0.87367\n",
            "  NBO charges: C1=0.80164, C2=-0.14816, O1=-0.58814, O2=-0.69639\n",
            "  frequencies: I_C_O=370.5649, v_C_O=1857.2547\n",
            "  C1, C2, L_C1_C2: (-2.830298, 0.105908, -0.000375), (-1.340812, 0.034111, -0.000206), 1.4912154042813532\n",
            "\n",
            "==== [7/13] [4-OMe] Processing log: /content/DFTDescriptorPipeline/examples/indigo_diaryl/logfiles/4-OMe.log ====\n",
            "  polarizability: 108.24033333333334\n",
            "  HOMO: -0.29463, LUMO: -0.01555\n",
            "  dipole: 3.6383\n",
            "  nbo_section: ok\n",
            "Found C1: 7, C2: 6, A: 9, B: 16, D: 8, F: 1, G: 5\n",
            "  atom index: c=7, e=6, a=9, b=16, d=8, f=1, g=5\n",
            "  NBO values: 1.99444, -1.01736, 1.97621, -0.8253\n",
            "  NBO charges: C1=0.80569, C2=-0.21608, O1=-0.61072, O2=-0.70529\n",
            "  frequencies: I_C_O=444.9562, v_C_O=1839.2772\n",
            "  C1, C2, L_C1_C2: (2.582619, -0.022612, 6.8e-05), (1.106499, 0.051092, 3.2e-05), 1.4779589085329812\n",
            "\n",
            "==== [8/13] [4-F] Processing log: /content/DFTDescriptorPipeline/examples/indigo_diaryl/logfiles/4-F.log ====\n",
            "  polarizability: 87.80400000000002\n",
            "  HOMO: -0.32452, LUMO: -0.02792\n",
            "  dipole: 1.4014\n",
            "  nbo_section: ok\n",
            "Found C1: 8, C2: 6, A: 10, B: 15, D: 9, F: 1, G: 5\n",
            "  atom index: c=8, e=6, a=10, b=15, d=9, f=1, g=5\n",
            "  NBO values: 1.99451, -1.02564, 1.97635, -0.83724\n",
            "  NBO charges: C1=0.8056, C2=-0.20006, O1=-0.60316, O2=-0.70209\n",
            "  frequencies: I_C_O=399.485, v_C_O=1847.964\n",
            "  C1, C2, L_C1_C2: (2.127344, 0.113339, -2.8e-05), (0.646646, 0.032875, -1.2e-05), 1.4828826732941482\n",
            "\n",
            "==== [9/13] [3-OMe] Processing log: /content/DFTDescriptorPipeline/examples/indigo_diaryl/logfiles/3-OMe.log ====\n",
            "  polarizability: 106.11566666666666\n",
            "  HOMO: -0.29193, LUMO: -0.02669\n",
            "  dipole: 2.5582\n",
            "  nbo_section: ok\n",
            "Found C1: 7, C2: 6, A: 9, B: 16, D: 8, F: 1, G: 1\n",
            "  atom index: c=7, e=6, a=9, b=16, d=8, f=1, g=1\n",
            "  NBO values: 1.99446, -1.02158, 1.97582, -0.83167\n",
            "  NBO charges: C1=0.80567, C2=-0.15559, O1=-0.60107, O2=-0.70439\n",
            "  frequencies: I_C_O=387.6622, v_C_O=1848.1054\n",
            "  C1, C2, L_C1_C2: (-2.193216, -0.507883, 1.3e-05), (-0.896053, 0.218048, 5e-06), 1.4864749124670755\n",
            "\n",
            "==== [10/13] [3-CHO] Processing log: /content/DFTDescriptorPipeline/examples/indigo_diaryl/logfiles/3-CHO.log ====\n",
            "  polarizability: 103.71966666666667\n",
            "  HOMO: -0.33791, LUMO: -0.05033\n",
            "  dipole: 2.3175\n",
            "  nbo_section: ok\n",
            "Found C1: 7, C2: 6, A: 9, B: 16, D: 8, F: 1, G: 5\n",
            "  atom index: c=7, e=6, a=9, b=16, d=8, f=1, g=5\n",
            "  NBO values: 1.99439, -1.02954, 1.97652, -0.84598\n",
            "  NBO charges: C1=0.805, C2=-0.17557, O1=-0.598, O2=-0.69418\n",
            "  frequencies: I_C_O=357.6061, v_C_O=1851.5616\n",
            "  C1, C2, L_C1_C2: (-2.180608, -0.458926, 0.000102), (-0.8436, 0.195374, 4.6e-05), 1.4885223831706393\n",
            "\n",
            "==== [11/13] [3-CF3] Processing log: /content/DFTDescriptorPipeline/examples/indigo_diaryl/logfiles/3-CF3.log ====\n",
            "  polarizability: 100.65199999999999\n",
            "  HOMO: -0.34485, LUMO: -0.04289\n",
            "  dipole: 1.0678\n",
            "  nbo_section: ok\n",
            "Found C1: 7, C2: 6, A: 9, B: 18, D: 8, F: 1, G: 5\n",
            "  atom index: c=7, e=6, a=9, b=18, d=8, f=1, g=5\n",
            "  NBO values: 1.99437, -1.03082, 1.97596, -0.84627\n",
            "  NBO charges: C1=0.80503, C2=-0.16952, O1=-0.59469, O2=-0.69735\n",
            "  frequencies: I_C_O=388.5588, v_C_O=1853.5519\n",
            "  C1, C2, L_C1_C2: (2.772323, -0.539376, -6.6e-05), (1.489395, 0.214682, -3.5e-05), 1.4881222132301501\n",
            "\n",
            "==== [12/13] [3-CN] Processing log: /content/DFTDescriptorPipeline/examples/indigo_diaryl/logfiles/3-CN.log ====\n",
            "  polarizability: 104.51733333333334\n",
            "  HOMO: -0.34098, LUMO: -0.05282\n",
            "  dipole: 2.7476\n",
            "  nbo_section: ok\n",
            "Found C1: 7, C2: 6, A: 9, B: 16, D: 8, F: 1, G: 5\n",
            "  atom index: c=7, e=6, a=9, b=16, d=8, f=1, g=5\n",
            "  NBO values: 1.9944, -1.03648, 1.97605, -0.85451\n",
            "  NBO charges: C1=0.80508, C2=-0.17138, O1=-0.59195, O2=-0.69662\n",
            "  frequencies: I_C_O=395.7176, v_C_O=1856.3657\n",
            "  C1, C2, L_C1_C2: (-2.194336, -0.432854, -0.000274), (-0.827951, 0.158736, -0.000131), 1.4889549075690638\n",
            "\n",
            "==== [13/13] [3-NO2] Processing log: /content/DFTDescriptorPipeline/examples/indigo_diaryl/logfiles/3-NO2.log ====\n",
            "  polarizability: 104.69366666666667\n",
            "  HOMO: -0.35489, LUMO: -0.07008\n",
            "  dipole: 2.7117\n",
            "  nbo_section: ok\n",
            "Found C1: 7, C2: 6, A: 9, B: 17, D: 8, F: 1, G: 5\n",
            "  atom index: c=7, e=6, a=9, b=17, d=8, f=1, g=5\n",
            "  NBO values: 1.99422, -1.04376, 1.9767, -0.86811\n",
            "  NBO charges: C1=0.80468, C2=-0.16831, O1=-0.59187, O2=-0.69417\n",
            "  frequencies: I_C_O=387.8464, v_C_O=1856.078\n",
            "  C1, C2, L_C1_C2: (-2.507834, -0.438555, -0.000244), (-1.167671, 0.21159, -0.000206), 1.489538649729506\n",
            "\n",
            "[STEP2] Adding Sterimol descriptors\n",
            "\n",
            "[Sterimol] [4-OMe] log: /content/DFTDescriptorPipeline/examples/indigo_diaryl/logfiles/4-OMe.log\n",
            "  [OK] Sterimol: L=8.915073553789613, B1=1.8272776750493223, B5=3.3105018209105443\n",
            "\n",
            "[Sterimol] [H] log: /content/DFTDescriptorPipeline/examples/indigo_diaryl/logfiles/H.log\n",
            "  [OK] Sterimol: L=6.823740509022571, B1=1.700512617038096, B5=3.322698572840575\n",
            "\n",
            "[Sterimol] [4-F] log: /content/DFTDescriptorPipeline/examples/indigo_diaryl/logfiles/4-F.log\n",
            "  [OK] Sterimol: L=7.428263929942788, B1=1.7005388655667997, B5=3.316846101917041\n",
            "\n",
            "[Sterimol] [4-CF3] log: /content/DFTDescriptorPipeline/examples/indigo_diaryl/logfiles/4-CF3.log\n",
            "  [OK] Sterimol: L=8.115703504969106, B1=2.234401748231411, B5=3.3220573944012672\n",
            "\n",
            "[Sterimol] [4-CN] log: /content/DFTDescriptorPipeline/examples/indigo_diaryl/logfiles/4-CN.log\n",
            "  [OK] Sterimol: L=8.780996747306624, B1=1.7005033645508478, B5=3.3246109802221318\n",
            "\n",
            "[Sterimol] [4-NO2] log: /content/DFTDescriptorPipeline/examples/indigo_diaryl/logfiles/4-NO2.log\n",
            "  [OK] Sterimol: L=8.213386636496505, B1=1.7005268330854089, B5=3.3170226443343713\n",
            "\n",
            "[Sterimol] [4-OMe] log: /content/DFTDescriptorPipeline/examples/indigo_diaryl/logfiles/4-OMe.log\n",
            "  [OK] Sterimol: L=8.915073553789613, B1=1.8272776750493223, B5=3.3105018209105443\n",
            "\n",
            "[Sterimol] [4-F] log: /content/DFTDescriptorPipeline/examples/indigo_diaryl/logfiles/4-F.log\n",
            "  [OK] Sterimol: L=7.428263929942788, B1=1.7005388655667997, B5=3.316846101917041\n",
            "\n",
            "[Sterimol] [3-OMe] log: /content/DFTDescriptorPipeline/examples/indigo_diaryl/logfiles/3-OMe.log\n",
            "  [OK] Sterimol: L=6.818398265476569, B1=1.771712210009044, B5=5.338020875263586\n",
            "\n",
            "[Sterimol] [3-CHO] log: /content/DFTDescriptorPipeline/examples/indigo_diaryl/logfiles/3-CHO.log\n",
            "  [OK] Sterimol: L=7.00020951292994, B1=1.7009295539305773, B5=4.984687591456346\n",
            "\n",
            "[Sterimol] [3-CF3] log: /content/DFTDescriptorPipeline/examples/indigo_diaryl/logfiles/3-CF3.log\n",
            "  [OK] Sterimol: L=7.560853538165855, B1=1.9378898258763053, B5=4.805570187510963\n",
            "\n",
            "[Sterimol] [3-CN] log: /content/DFTDescriptorPipeline/examples/indigo_diaryl/logfiles/3-CN.log\n",
            "  [OK] Sterimol: L=6.935018791412064, B1=1.7008361479124865, B5=4.857309245649856\n",
            "\n",
            "[Sterimol] [3-NO2] log: /content/DFTDescriptorPipeline/examples/indigo_diaryl/logfiles/3-NO2.log\n",
            "  [OK] Sterimol: L=7.50575035890872, B1=1.7004198244149409, B5=4.909640383836518\n",
            "❗The following molecules have atom index as None/NaN during extraction:\n",
            "\n",
            "      Ar  Ar_c  Ar_e  Ar_a  Ar_b  Ar_d  Ar_f  Ar_g\n",
            "5  4-NO2   7.0   6.0   9.0  17.0   9.0   NaN   NaN\n",
            "\n",
            "Corresponding log_file:\n",
            "      Ar                                           log_file\n",
            "5  4-NO2  /content/DFTDescriptorPipeline/examples/indigo...\n",
            "\n",
            "Saved as problem_index_report.xlsx for manual checking!\n",
            "\n",
            "[STEP3] Regression training and best model selection\n"
          ]
        },
        {
          "output_type": "display_data",
          "data": {
            "text/plain": [
              "<Figure size 800x700 with 1 Axes>"
            ],
            "image/png": "[encoded data removed]"
          },
          "metadata": {}
        },
        {
          "output_type": "stream",
          "name": "stdout",
          "text": [
            "\n",
            "[STEP4] Analysis complete!\n"
          ]
        }
      ]
    }
  ]
}