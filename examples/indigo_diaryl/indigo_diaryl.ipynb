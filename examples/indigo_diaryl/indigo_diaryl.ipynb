{
  "nbformat": 4,
  "nbformat_minor": 0,
  "metadata": {
    "colab": {
      "provenance": [],
      "authorship_tag": "ABX9TyOKOTJVYUuN8DUEr1HVwUkx",
      "include_colab_link": true
    },
    "kernelspec": {
      "name": "python3",
      "display_name": "Python 3"
    },
    "language_info": {
      "name": "python"
    }
  },
  "cells": [
    {
      "cell_type": "markdown",
      "metadata": {
        "id": "view-in-github",
        "colab_type": "text"
      },
      "source": [
        "<a href=\"https://colab.research.google.com/github/peculab/DFTDescriptorPipeline/blob/main/examples/indigo_diaryl/indigo_diaryl.ipynb\" target=\"_parent\"><img src=\"https://colab.research.google.com/assets/colab-badge.svg\" alt=\"Open In Colab\"/></a>"
      ]
    },
    {
      "cell_type": "code",
      "source": [
        "!rm -rf /usr/local/lib/python3.11/dist-packages/descriptors"
      ],
      "metadata": {
        "id": "kg02DJwkUVaQ"
      },
      "execution_count": 1,
      "outputs": []
    },
    {
      "cell_type": "code",
      "source": [
        "# ✅ Reset environment\n",
        "%cd /content\n",
        "import shutil, os, sys, importlib\n",
        "\n",
        "# 🔁 Uninstall pip-installed descriptors\n",
        "!pip uninstall -y descriptors\n",
        "\n",
        "# 🔥 Clear cached modules\n",
        "for k in list(sys.modules.keys()):\n",
        "    if k.startswith(\"descriptors\"):\n",
        "        del sys.modules[k]\n",
        "\n",
        "# 🧹 Remove previous repo\n",
        "if os.path.exists(\"DFTDescriptorPipeline\"):\n",
        "    shutil.rmtree(\"DFTDescriptorPipeline\")"
      ],
      "metadata": {
        "colab": {
          "base_uri": "https://localhost:8080/"
        },
        "id": "8Q0nCEnWmmst",
        "outputId": "5bc217d5-babb-4430-a277-9a597baa9216"
      },
      "execution_count": 2,
      "outputs": [
        {
          "output_type": "stream",
          "name": "stdout",
          "text": [
            "/content\n",
            "\u001b[33mWARNING: Skipping descriptors as it is not installed.\u001b[0m\u001b[33m\n",
            "\u001b[0m"
          ]
        }
      ]
    },
    {
      "cell_type": "code",
      "source": [
        "# ✅ Install required packages\n",
        "!pip install morfeus-ml scikit-learn joblib matplotlib openpyxl\n",
        "\n",
        "# ✅ Clone the latest repo\n",
        "!git clone https://github.com/peculab/DFTDescriptorPipeline.git"
      ],
      "metadata": {
        "colab": {
          "base_uri": "https://localhost:8080/"
        },
        "id": "merLdr9M1_LR",
        "outputId": "f78cd4b8-fccf-4277-8b3f-dd64505c73ba"
      },
      "execution_count": 3,
      "outputs": [
        {
          "output_type": "stream",
          "name": "stdout",
          "text": [
            "Collecting morfeus-ml\n",
            "  Downloading morfeus_ml-0.7.2-py3-none-any.whl.metadata (675 bytes)\n",
            "Requirement already satisfied: scikit-learn in /usr/local/lib/python3.11/dist-packages (1.6.1)\n",
            "Requirement already satisfied: joblib in /usr/local/lib/python3.11/dist-packages (1.5.0)\n",
            "Requirement already satisfied: matplotlib in /usr/local/lib/python3.11/dist-packages (3.10.0)\n",
            "Requirement already satisfied: openpyxl in /usr/local/lib/python3.11/dist-packages (3.1.5)\n",
            "Collecting fire (from morfeus-ml)\n",
            "  Downloading fire-0.7.0.tar.gz (87 kB)\n",
            "\u001b[2K     \u001b[90m━━━━━━━━━━━━━━━━━━━━━━━━━━━━━━━━━━━━━━━━\u001b[0m \u001b[32m87.2/87.2 kB\u001b[0m \u001b[31m2.6 MB/s\u001b[0m eta \u001b[36m0:00:00\u001b[0m\n",
            "\u001b[?25h  Preparing metadata (setup.py) ... \u001b[?25l\u001b[?25hdone\n",
            "Requirement already satisfied: numpy in /usr/local/lib/python3.11/dist-packages (from morfeus-ml) (2.0.2)\n",
            "Requirement already satisfied: scipy in /usr/local/lib/python3.11/dist-packages (from morfeus-ml) (1.15.3)\n",
            "Requirement already satisfied: threadpoolctl>=3.1.0 in /usr/local/lib/python3.11/dist-packages (from scikit-learn) (3.6.0)\n",
            "Requirement already satisfied: contourpy>=1.0.1 in /usr/local/lib/python3.11/dist-packages (from matplotlib) (1.3.2)\n",
            "Requirement already satisfied: cycler>=0.10 in /usr/local/lib/python3.11/dist-packages (from matplotlib) (0.12.1)\n",
            "Requirement already satisfied: fonttools>=4.22.0 in /usr/local/lib/python3.11/dist-packages (from matplotlib) (4.58.0)\n",
            "Requirement already satisfied: kiwisolver>=1.3.1 in /usr/local/lib/python3.11/dist-packages (from matplotlib) (1.4.8)\n",
            "Requirement already satisfied: packaging>=20.0 in /usr/local/lib/python3.11/dist-packages (from matplotlib) (24.2)\n",
            "Requirement already satisfied: pillow>=8 in /usr/local/lib/python3.11/dist-packages (from matplotlib) (11.2.1)\n",
            "Requirement already satisfied: pyparsing>=2.3.1 in /usr/local/lib/python3.11/dist-packages (from matplotlib) (3.2.3)\n",
            "Requirement already satisfied: python-dateutil>=2.7 in /usr/local/lib/python3.11/dist-packages (from matplotlib) (2.9.0.post0)\n",
            "Requirement already satisfied: et-xmlfile in /usr/local/lib/python3.11/dist-packages (from openpyxl) (2.0.0)\n",
            "Requirement already satisfied: six>=1.5 in /usr/local/lib/python3.11/dist-packages (from python-dateutil>=2.7->matplotlib) (1.17.0)\n",
            "Requirement already satisfied: termcolor in /usr/local/lib/python3.11/dist-packages (from fire->morfeus-ml) (3.1.0)\n",
            "Downloading morfeus_ml-0.7.2-py3-none-any.whl (95 kB)\n",
            "\u001b[2K   \u001b[90m━━━━━━━━━━━━━━━━━━━━━━━━━━━━━━━━━━━━━━━━\u001b[0m \u001b[32m95.0/95.0 kB\u001b[0m \u001b[31m4.0 MB/s\u001b[0m eta \u001b[36m0:00:00\u001b[0m\n",
            "\u001b[?25hBuilding wheels for collected packages: fire\n",
            "  Building wheel for fire (setup.py) ... \u001b[?25l\u001b[?25hdone\n",
            "  Created wheel for fire: filename=fire-0.7.0-py3-none-any.whl size=114249 sha256=26d17e1fe129ace83bfb9dd77bac3d7ece26b3a89482cc314eb686960be3c636\n",
            "  Stored in directory: /root/.cache/pip/wheels/46/54/24/1624fd5b8674eb1188623f7e8e17cdf7c0f6c24b609dfb8a89\n",
            "Successfully built fire\n",
            "Installing collected packages: fire, morfeus-ml\n",
            "Successfully installed fire-0.7.0 morfeus-ml-0.7.2\n",
            "Cloning into 'DFTDescriptorPipeline'...\n",
            "remote: Enumerating objects: 418, done.\u001b[K\n",
            "remote: Counting objects: 100% (97/97), done.\u001b[K\n",
            "remote: Compressing objects: 100% (72/72), done.\u001b[K\n",
            "remote: Total 418 (delta 50), reused 51 (delta 20), pack-reused 321 (from 1)\u001b[K\n",
            "Receiving objects: 100% (418/418), 34.98 MiB | 30.62 MiB/s, done.\n",
            "Resolving deltas: 100% (258/258), done.\n"
          ]
        }
      ]
    },
    {
      "cell_type": "code",
      "source": [
        "# ✅ Set module path\n",
        "from morfeus import read_xyz, Sterimol\n",
        "from morfeus.utils import get_radii\n",
        "\n",
        "import shutil, os, sys, importlib\n",
        "sys.path.insert(0, \"/content/DFTDescriptorPipeline/descriptors\")\n",
        "import extractor_regr\n",
        "import glob, os\n",
        "importlib.reload(extractor_regr)"
      ],
      "metadata": {
        "colab": {
          "base_uri": "https://localhost:8080/"
        },
        "id": "-gRQSIyU2BHZ",
        "outputId": "332d63b3-01b0-4de4-d69c-27af5f13f7ad"
      },
      "execution_count": 4,
      "outputs": [
        {
          "output_type": "execute_result",
          "data": {
            "text/plain": [
              "<module 'extractor_regr' from '/content/DFTDescriptorPipeline/descriptors/extractor_regr.py'>"
            ]
          },
          "metadata": {},
          "execution_count": 4
        }
      ]
    },
    {
      "cell_type": "code",
      "source": [
        "# 指定資料夾與檔案路徑\n",
        "data_dir = \"/content/DFTDescriptorPipeline/examples/indigo_diaryl\"\n",
        "xlsx_path = glob.glob(os.path.join(data_dir, \"*.xlsx\"))[0]\n",
        "log_folder = os.path.join(data_dir, \"logfiles\")"
      ],
      "metadata": {
        "id": "5sPLRAZM2CbU"
      },
      "execution_count": 5,
      "outputs": []
    },
    {
      "cell_type": "code",
      "source": [
        "# ✅ Ar = Ar1\n",
        "import pandas as pd\n",
        "\n",
        "modified_xlsx_path = \"/content/DFTDescriptorPipeline/examples/azoarene/indigo_diaryl_with_Ar.xlsx\"\n",
        "\n",
        "df = pd.read_excel(xlsx_path)\n",
        "\n",
        "# 建立 Ar 欄位 = Ar1\n",
        "df[\"Ar\"] = df[\"Ar2\"]\n",
        "\n",
        "# 儲存新檔案\n",
        "df.to_excel(modified_xlsx_path, index=False)\n",
        "\n",
        "print(\"✔ new xlsx_path =\", modified_xlsx_path)"
      ],
      "metadata": {
        "colab": {
          "base_uri": "https://localhost:8080/"
        },
        "id": "wAqGc_yp2UDO",
        "outputId": "be2b2b93-767f-469b-b276-d5bfde89e73a"
      },
      "execution_count": 6,
      "outputs": [
        {
          "output_type": "stream",
          "name": "stdout",
          "text": [
            "✔ new xlsx_path = /content/DFTDescriptorPipeline/examples/azoarene/indigo_diaryl_with_Ar.xlsx\n"
          ]
        }
      ]
    },
    {
      "cell_type": "code",
      "source": [
        "# 一鍵執行\n",
        "df, results, best_model = extractor_regr.run_full_pipeline(\n",
        "    log_folder=log_folder,\n",
        "    xlsx_path=modified_xlsx_path,\n",
        "    target='ln(kobs)'\n",
        ")"
      ],
      "metadata": {
        "colab": {
          "base_uri": "https://localhost:8080/",
          "height": 1000
        },
        "id": "zrMZm8Ko2VmD",
        "outputId": "a406bf1a-1e91-4e34-a3f3-6091aa81f2fe"
      },
      "execution_count": 7,
      "outputs": [
        {
          "output_type": "stream",
          "name": "stdout",
          "text": [
            "\n",
            "[STEP1] 讀取 Excel：/content/DFTDescriptorPipeline/examples/azoarene/indigo_diaryl_with_Ar.xlsx\n",
            "\n",
            "==== [1/13] [4-OMe] 處理 log: /content/DFTDescriptorPipeline/examples/indigo_diaryl/logfiles/4-OMe.log ====\n",
            "  polarizability: 108.24033333333334\n",
            "  HOMO: -0.29463, LUMO: -0.01555\n",
            "  dipole: 3.6383\n",
            "  nbo_section: ok\n",
            "  atom index: c=7, e=6, a=9, b=16, d=8, f=1, g=5\n",
            "  NBO values: 1.99444, -1.01736, 1.97621, -0.8253\n",
            "  NBO charges: C1=0.80569, C2=-0.21608, O1=-0.61072, O2=-0.70529\n",
            "  frequencies: I_C_O=444.9562, v_C_O=1839.2772\n",
            "  C1, C2, L_C1_C2: (2.582619, -0.022612, 6.8e-05), (1.106499, 0.051092, 3.2e-05), 1.4779589085329812\n",
            "\n",
            "==== [2/13] [H] 處理 log: /content/DFTDescriptorPipeline/examples/indigo_diaryl/logfiles/H.log ====\n",
            "  polarizability: 87.51300000000002\n",
            "  HOMO: -0.32424, LUMO: -0.02742\n",
            "  dipole: 2.0759\n",
            "  nbo_section: ok\n",
            "  atom index: c=7, e=6, a=9, b=15, d=8, f=1, g=5\n",
            "  NBO values: 1.99444, -1.02068, 1.97611, -0.83139\n",
            "  NBO charges: C1=0.80505, C2=-0.18103, O1=-0.6028, O2=-0.70145\n",
            "  frequencies: I_C_O=391.1199, v_C_O=1848.0244\n",
            "  C1, C2, L_C1_C2: (-1.696707, 0.122869, 8e-06), (-0.214245, 0.029928, 3e-06), 1.4853725495477557\n",
            "\n",
            "==== [3/13] [4-F] 處理 log: /content/DFTDescriptorPipeline/examples/indigo_diaryl/logfiles/4-F.log ====\n",
            "  polarizability: 87.80400000000002\n",
            "  HOMO: -0.32452, LUMO: -0.02792\n",
            "  dipole: 1.4014\n",
            "  nbo_section: ok\n",
            "  atom index: c=8, e=6, a=10, b=15, d=9, f=1, g=5\n",
            "  NBO values: 1.99451, -1.02564, 1.97635, -0.83724\n",
            "  NBO charges: C1=0.8056, C2=-0.20006, O1=-0.60316, O2=-0.70209\n",
            "  frequencies: I_C_O=399.485, v_C_O=1847.964\n",
            "  C1, C2, L_C1_C2: (2.127344, 0.113339, -2.8e-05), (0.646646, 0.032875, -1.2e-05), 1.4828826732941482\n",
            "\n",
            "==== [4/13] [4-CF3] 處理 log: /content/DFTDescriptorPipeline/examples/indigo_diaryl/logfiles/4-CF3.log ====\n",
            "  polarizability: 101.24900000000001\n",
            "  HOMO: -0.34295, LUMO: -0.04827\n",
            "  dipole: 2.0013\n",
            "  nbo_section: ok\n",
            "  atom index: c=7, e=6, a=9, b=18, d=8, f=1, g=5\n",
            "  NBO values: 1.99442, -0.99788, 1.97656, -0.82664\n",
            "  NBO charges: C1=0.80403, C2=-0.1591, O1=-0.59318, O2=-0.69817\n",
            "  frequencies: I_C_O=375.6943, v_C_O=1854.7548\n",
            "  C1, C2, L_C1_C2: (3.1935, 0.097007, 1.4e-05), (1.705485, 0.039836, 4e-06), 1.489112878047195\n",
            "\n",
            "==== [5/13] [4-CN] 處理 log: /content/DFTDescriptorPipeline/examples/indigo_diaryl/logfiles/4-CN.log ====\n",
            "  polarizability: 106.04233333333332\n",
            "  HOMO: -0.34281, LUMO: -0.06346\n",
            "  dipole: 3.577\n",
            "  nbo_section: ok\n",
            "  atom index: c=7, e=6, a=9, b=16, d=8, f=1, g=5\n",
            "  NBO values: 1.99449, -1.04192, 1.97702, -0.8559\n",
            "  NBO charges: C1=0.8021, C2=-0.15334, O1=-0.59032, O2=-0.69731\n",
            "  frequencies: I_C_O=393.2485, v_C_O=1855.5075\n",
            "  C1, C2, L_C1_C2: (-2.439868, 0.105899, 0.000136), (-0.952061, 0.032442, 7.7e-05), 1.4896192814202562\n",
            "\n",
            "==== [6/13] [4-NO2] 處理 log: /content/DFTDescriptorPipeline/examples/indigo_diaryl/logfiles/4-NO2.log ====\n",
            "  polarizability: 105.60266666666666\n",
            "  HOMO: -0.35252, LUMO: -0.08032\n",
            "  dipole: 3.63\n",
            "  nbo_section: ok\n",
            "  atom index: c=None, e=None, a=None, b=None, d=None, f=None, g=None\n",
            "\n",
            "==== [7/13] [4-OMe] 處理 log: /content/DFTDescriptorPipeline/examples/indigo_diaryl/logfiles/4-OMe.log ====\n",
            "  polarizability: 108.24033333333334\n",
            "  HOMO: -0.29463, LUMO: -0.01555\n",
            "  dipole: 3.6383\n",
            "  nbo_section: ok\n",
            "  atom index: c=7, e=6, a=9, b=16, d=8, f=1, g=5\n",
            "  NBO values: 1.99444, -1.01736, 1.97621, -0.8253\n",
            "  NBO charges: C1=0.80569, C2=-0.21608, O1=-0.61072, O2=-0.70529\n",
            "  frequencies: I_C_O=444.9562, v_C_O=1839.2772\n",
            "  C1, C2, L_C1_C2: (2.582619, -0.022612, 6.8e-05), (1.106499, 0.051092, 3.2e-05), 1.4779589085329812\n",
            "\n",
            "==== [8/13] [4-F] 處理 log: /content/DFTDescriptorPipeline/examples/indigo_diaryl/logfiles/4-F.log ====\n",
            "  polarizability: 87.80400000000002\n",
            "  HOMO: -0.32452, LUMO: -0.02792\n",
            "  dipole: 1.4014\n",
            "  nbo_section: ok\n",
            "  atom index: c=8, e=6, a=10, b=15, d=9, f=1, g=5\n",
            "  NBO values: 1.99451, -1.02564, 1.97635, -0.83724\n",
            "  NBO charges: C1=0.8056, C2=-0.20006, O1=-0.60316, O2=-0.70209\n",
            "  frequencies: I_C_O=399.485, v_C_O=1847.964\n",
            "  C1, C2, L_C1_C2: (2.127344, 0.113339, -2.8e-05), (0.646646, 0.032875, -1.2e-05), 1.4828826732941482\n",
            "\n",
            "==== [9/13] [3-OMe] 處理 log: /content/DFTDescriptorPipeline/examples/indigo_diaryl/logfiles/3-OMe.log ====\n",
            "  polarizability: 106.11566666666666\n",
            "  HOMO: -0.29193, LUMO: -0.02669\n",
            "  dipole: 2.5582\n",
            "  nbo_section: ok\n",
            "  atom index: c=7, e=6, a=9, b=16, d=8, f=1, g=1\n",
            "  NBO values: 1.99446, -1.02158, 1.97582, -0.83167\n",
            "  NBO charges: C1=0.80567, C2=-0.15559, O1=-0.60107, O2=-0.70439\n",
            "  frequencies: I_C_O=387.6622, v_C_O=1848.1054\n",
            "  C1, C2, L_C1_C2: (-2.193216, -0.507883, 1.3e-05), (-0.896053, 0.218048, 5e-06), 1.4864749124670755\n",
            "\n",
            "==== [10/13] [3-CHO] 處理 log: /content/DFTDescriptorPipeline/examples/indigo_diaryl/logfiles/3-CHO.log ====\n",
            "  polarizability: 103.71966666666667\n",
            "  HOMO: -0.33791, LUMO: -0.05033\n",
            "  dipole: 2.3175\n",
            "  nbo_section: ok\n",
            "  atom index: c=7, e=6, a=9, b=16, d=8, f=1, g=5\n",
            "  NBO values: 1.99439, -1.02954, 1.97652, -0.84598\n",
            "  NBO charges: C1=0.805, C2=-0.17557, O1=-0.598, O2=-0.69418\n",
            "  frequencies: I_C_O=357.6061, v_C_O=1851.5616\n",
            "  C1, C2, L_C1_C2: (-2.180608, -0.458926, 0.000102), (-0.8436, 0.195374, 4.6e-05), 1.4885223831706393\n",
            "\n",
            "==== [11/13] [3-CF3] 處理 log: /content/DFTDescriptorPipeline/examples/indigo_diaryl/logfiles/3-CF3.log ====\n",
            "  polarizability: 100.65199999999999\n",
            "  HOMO: -0.34485, LUMO: -0.04289\n",
            "  dipole: 1.0678\n",
            "  nbo_section: ok\n",
            "  atom index: c=7, e=6, a=9, b=18, d=8, f=1, g=5\n",
            "  NBO values: 1.99437, -1.03082, 1.97596, -0.84627\n",
            "  NBO charges: C1=0.80503, C2=-0.16952, O1=-0.59469, O2=-0.69735\n",
            "  frequencies: I_C_O=388.5588, v_C_O=1853.5519\n",
            "  C1, C2, L_C1_C2: (2.772323, -0.539376, -6.6e-05), (1.489395, 0.214682, -3.5e-05), 1.4881222132301501\n",
            "\n",
            "==== [12/13] [3-CN] 處理 log: /content/DFTDescriptorPipeline/examples/indigo_diaryl/logfiles/3-CN.log ====\n",
            "  polarizability: 104.51733333333334\n",
            "  HOMO: -0.34098, LUMO: -0.05282\n",
            "  dipole: 2.7476\n",
            "  nbo_section: ok\n",
            "  atom index: c=7, e=6, a=9, b=16, d=8, f=1, g=5\n",
            "  NBO values: 1.9944, -1.03648, 1.97605, -0.85451\n",
            "  NBO charges: C1=0.80508, C2=-0.17138, O1=-0.59195, O2=-0.69662\n",
            "  frequencies: I_C_O=395.7176, v_C_O=1856.3657\n",
            "  C1, C2, L_C1_C2: (-2.194336, -0.432854, -0.000274), (-0.827951, 0.158736, -0.000131), 1.4889549075690638\n",
            "\n",
            "==== [13/13] [3-NO2] 處理 log: /content/DFTDescriptorPipeline/examples/indigo_diaryl/logfiles/3-NO2.log ====\n",
            "  polarizability: 104.69366666666667\n",
            "  HOMO: -0.35489, LUMO: -0.07008\n",
            "  dipole: 2.7117\n",
            "  nbo_section: ok\n",
            "  atom index: c=7, e=6, a=9, b=17, d=8, f=1, g=5\n",
            "  NBO values: 1.99422, -1.04376, 1.9767, -0.86811\n",
            "  NBO charges: C1=0.80468, C2=-0.16831, O1=-0.59187, O2=-0.69417\n",
            "  frequencies: I_C_O=387.8464, v_C_O=1856.078\n",
            "  C1, C2, L_C1_C2: (-2.507834, -0.438555, -0.000244), (-1.167671, 0.21159, -0.000206), 1.489538649729506\n",
            "\n",
            "[STEP2] 加入 Sterimol 特徵\n",
            "\n",
            "[Sterimol] [4-OMe] log: /content/DFTDescriptorPipeline/examples/indigo_diaryl/logfiles/4-OMe.log\n",
            "  [OK] Sterimol: L=8.915073553789613, B1=1.8272776750493223, B5=3.3105018209105443\n",
            "\n",
            "[Sterimol] [H] log: /content/DFTDescriptorPipeline/examples/indigo_diaryl/logfiles/H.log\n",
            "  [OK] Sterimol: L=6.823740509022571, B1=1.700512617038096, B5=3.322698572840575\n",
            "\n",
            "[Sterimol] [4-F] log: /content/DFTDescriptorPipeline/examples/indigo_diaryl/logfiles/4-F.log\n",
            "  [OK] Sterimol: L=7.428263929942788, B1=1.7005388655667997, B5=3.316846101917041\n",
            "\n",
            "[Sterimol] [4-CF3] log: /content/DFTDescriptorPipeline/examples/indigo_diaryl/logfiles/4-CF3.log\n",
            "  [OK] Sterimol: L=8.115703504969106, B1=2.234401748231411, B5=3.3220573944012672\n",
            "\n",
            "[Sterimol] [4-CN] log: /content/DFTDescriptorPipeline/examples/indigo_diaryl/logfiles/4-CN.log\n",
            "  [OK] Sterimol: L=8.780996747306624, B1=1.7005033645508478, B5=3.3246109802221318\n",
            "\n",
            "[Sterimol] [4-NO2] log: /content/DFTDescriptorPipeline/examples/indigo_diaryl/logfiles/4-NO2.log\n",
            "  [WARN] Atoms 欄位有 NaN: Ar_a=nan, Ar_b=nan, Ar_d=nan, Ar_c=nan, Ar_e=nan，此分子 sterimol 設 None\n",
            "\n",
            "[Sterimol] [4-OMe] log: /content/DFTDescriptorPipeline/examples/indigo_diaryl/logfiles/4-OMe.log\n",
            "  [OK] Sterimol: L=8.915073553789613, B1=1.8272776750493223, B5=3.3105018209105443\n",
            "\n",
            "[Sterimol] [4-F] log: /content/DFTDescriptorPipeline/examples/indigo_diaryl/logfiles/4-F.log\n",
            "  [OK] Sterimol: L=7.428263929942788, B1=1.7005388655667997, B5=3.316846101917041\n",
            "\n",
            "[Sterimol] [3-OMe] log: /content/DFTDescriptorPipeline/examples/indigo_diaryl/logfiles/3-OMe.log\n",
            "  [OK] Sterimol: L=6.818398265476569, B1=1.771712210009044, B5=5.338020875263586\n",
            "\n",
            "[Sterimol] [3-CHO] log: /content/DFTDescriptorPipeline/examples/indigo_diaryl/logfiles/3-CHO.log\n",
            "  [OK] Sterimol: L=7.00020951292994, B1=1.7009295539305773, B5=4.984687591456346\n",
            "\n",
            "[Sterimol] [3-CF3] log: /content/DFTDescriptorPipeline/examples/indigo_diaryl/logfiles/3-CF3.log\n",
            "  [OK] Sterimol: L=7.560853538165855, B1=1.9378898258763053, B5=4.805570187510963\n",
            "\n",
            "[Sterimol] [3-CN] log: /content/DFTDescriptorPipeline/examples/indigo_diaryl/logfiles/3-CN.log\n",
            "  [OK] Sterimol: L=6.935018791412064, B1=1.7008361479124865, B5=4.857309245649856\n",
            "\n",
            "[Sterimol] [3-NO2] log: /content/DFTDescriptorPipeline/examples/indigo_diaryl/logfiles/3-NO2.log\n",
            "  [OK] Sterimol: L=7.50575035890872, B1=1.7004198244149409, B5=4.909640383836518\n",
            "❗以下分子提取時 atom index 有 None/NaN：\n",
            "\n",
            "      Ar  Ar_c  Ar_e  Ar_a  Ar_b  Ar_d  Ar_f  Ar_g\n",
            "5  4-NO2   NaN   NaN   NaN   NaN   NaN   NaN   NaN\n",
            "\n",
            "對應 log_file：\n",
            "      Ar                                           log_file\n",
            "5  4-NO2  /content/DFTDescriptorPipeline/examples/indigo...\n",
            "\n",
            "已存為 problem_index_report.xlsx，方便人工追查！\n",
            "\n",
            "[STEP3] 進行回歸訓練與篩選最佳模型\n"
          ]
        },
        {
          "output_type": "error",
          "ename": "KeyError",
          "evalue": "'ddG'",
          "traceback": [
            "\u001b[0;31m---------------------------------------------------------------------------\u001b[0m",
            "\u001b[0;31mKeyError\u001b[0m                                  Traceback (most recent call last)",
            "\u001b[0;32m/usr/local/lib/python3.11/dist-packages/pandas/core/indexes/base.py\u001b[0m in \u001b[0;36mget_loc\u001b[0;34m(self, key)\u001b[0m\n\u001b[1;32m   3804\u001b[0m         \u001b[0;32mtry\u001b[0m\u001b[0;34m:\u001b[0m\u001b[0;34m\u001b[0m\u001b[0;34m\u001b[0m\u001b[0m\n\u001b[0;32m-> 3805\u001b[0;31m             \u001b[0;32mreturn\u001b[0m \u001b[0mself\u001b[0m\u001b[0;34m.\u001b[0m\u001b[0m_engine\u001b[0m\u001b[0;34m.\u001b[0m\u001b[0mget_loc\u001b[0m\u001b[0;34m(\u001b[0m\u001b[0mcasted_key\u001b[0m\u001b[0;34m)\u001b[0m\u001b[0;34m\u001b[0m\u001b[0;34m\u001b[0m\u001b[0m\n\u001b[0m\u001b[1;32m   3806\u001b[0m         \u001b[0;32mexcept\u001b[0m \u001b[0mKeyError\u001b[0m \u001b[0;32mas\u001b[0m \u001b[0merr\u001b[0m\u001b[0;34m:\u001b[0m\u001b[0;34m\u001b[0m\u001b[0;34m\u001b[0m\u001b[0m\n",
            "\u001b[0;32mindex.pyx\u001b[0m in \u001b[0;36mpandas._libs.index.IndexEngine.get_loc\u001b[0;34m()\u001b[0m\n",
            "\u001b[0;32mindex.pyx\u001b[0m in \u001b[0;36mpandas._libs.index.IndexEngine.get_loc\u001b[0;34m()\u001b[0m\n",
            "\u001b[0;32mpandas/_libs/hashtable_class_helper.pxi\u001b[0m in \u001b[0;36mpandas._libs.hashtable.PyObjectHashTable.get_item\u001b[0;34m()\u001b[0m\n",
            "\u001b[0;32mpandas/_libs/hashtable_class_helper.pxi\u001b[0m in \u001b[0;36mpandas._libs.hashtable.PyObjectHashTable.get_item\u001b[0;34m()\u001b[0m\n",
            "\u001b[0;31mKeyError\u001b[0m: 'ddG'",
            "\nThe above exception was the direct cause of the following exception:\n",
            "\u001b[0;31mKeyError\u001b[0m                                  Traceback (most recent call last)",
            "\u001b[0;32m<ipython-input-7-21bf3401a327>\u001b[0m in \u001b[0;36m<cell line: 0>\u001b[0;34m()\u001b[0m\n\u001b[1;32m      1\u001b[0m \u001b[0;31m# 一鍵執行\u001b[0m\u001b[0;34m\u001b[0m\u001b[0;34m\u001b[0m\u001b[0m\n\u001b[0;32m----> 2\u001b[0;31m df, results, best_model = extractor_regr.run_full_pipeline(\n\u001b[0m\u001b[1;32m      3\u001b[0m     \u001b[0mlog_folder\u001b[0m\u001b[0;34m=\u001b[0m\u001b[0mlog_folder\u001b[0m\u001b[0;34m,\u001b[0m\u001b[0;34m\u001b[0m\u001b[0;34m\u001b[0m\u001b[0m\n\u001b[1;32m      4\u001b[0m     \u001b[0mxlsx_path\u001b[0m\u001b[0;34m=\u001b[0m\u001b[0mmodified_xlsx_path\u001b[0m\u001b[0;34m,\u001b[0m\u001b[0;34m\u001b[0m\u001b[0;34m\u001b[0m\u001b[0m\n\u001b[1;32m      5\u001b[0m     \u001b[0mtarget\u001b[0m\u001b[0;34m=\u001b[0m\u001b[0;34m'ln(kobs)'\u001b[0m\u001b[0;34m\u001b[0m\u001b[0;34m\u001b[0m\u001b[0m\n",
            "\u001b[0;32m/content/DFTDescriptorPipeline/descriptors/extractor_regr.py\u001b[0m in \u001b[0;36mrun_full_pipeline\u001b[0;34m(log_folder, xlsx_path, target, output_path, plot_path)\u001b[0m\n\u001b[1;32m    560\u001b[0m     \u001b[0mresults\u001b[0m \u001b[0;34m=\u001b[0m \u001b[0msearch_best_models\u001b[0m\u001b[0;34m(\u001b[0m\u001b[0mdata\u001b[0m\u001b[0;34m,\u001b[0m \u001b[0mfeature_list\u001b[0m\u001b[0;34m,\u001b[0m \u001b[0mtarget\u001b[0m\u001b[0;34m,\u001b[0m \u001b[0mmax_features\u001b[0m\u001b[0;34m=\u001b[0m\u001b[0;36m5\u001b[0m\u001b[0;34m,\u001b[0m \u001b[0mr2_threshold\u001b[0m\u001b[0;34m=\u001b[0m\u001b[0;36m0.8\u001b[0m\u001b[0;34m,\u001b[0m \u001b[0mn_jobs\u001b[0m\u001b[0;34m=\u001b[0m\u001b[0;36m4\u001b[0m\u001b[0;34m)\u001b[0m\u001b[0;34m\u001b[0m\u001b[0;34m\u001b[0m\u001b[0m\n\u001b[1;32m    561\u001b[0m     \u001b[0mbest_model\u001b[0m \u001b[0;34m=\u001b[0m \u001b[0msorted\u001b[0m\u001b[0;34m(\u001b[0m\u001b[0mresults\u001b[0m\u001b[0;34m,\u001b[0m \u001b[0mkey\u001b[0m\u001b[0;34m=\u001b[0m\u001b[0;32mlambda\u001b[0m \u001b[0mx\u001b[0m\u001b[0;34m:\u001b[0m \u001b[0mx\u001b[0m\u001b[0;34m[\u001b[0m\u001b[0;34m'r2_full'\u001b[0m\u001b[0;34m]\u001b[0m\u001b[0;34m,\u001b[0m \u001b[0mreverse\u001b[0m\u001b[0;34m=\u001b[0m\u001b[0;32mTrue\u001b[0m\u001b[0;34m)\u001b[0m\u001b[0;34m[\u001b[0m\u001b[0;36m0\u001b[0m\u001b[0;34m]\u001b[0m\u001b[0;34m\u001b[0m\u001b[0;34m\u001b[0m\u001b[0m\n\u001b[0;32m--> 562\u001b[0;31m     \u001b[0mplot_best_regression\u001b[0m\u001b[0;34m(\u001b[0m\u001b[0mdata\u001b[0m\u001b[0;34m,\u001b[0m \u001b[0mbest_model\u001b[0m\u001b[0;34m,\u001b[0m \u001b[0mplot_path\u001b[0m\u001b[0;34m)\u001b[0m\u001b[0;34m\u001b[0m\u001b[0;34m\u001b[0m\u001b[0m\n\u001b[0m\u001b[1;32m    563\u001b[0m     \u001b[0mprint\u001b[0m\u001b[0;34m(\u001b[0m\u001b[0;34mf\"\\n[STEP4] 分析完成！\"\u001b[0m\u001b[0;34m)\u001b[0m\u001b[0;34m\u001b[0m\u001b[0;34m\u001b[0m\u001b[0m\n\u001b[1;32m    564\u001b[0m     \u001b[0;32mreturn\u001b[0m \u001b[0mdf\u001b[0m\u001b[0;34m,\u001b[0m \u001b[0mresults\u001b[0m\u001b[0;34m,\u001b[0m \u001b[0mbest_model\u001b[0m\u001b[0;34m\u001b[0m\u001b[0;34m\u001b[0m\u001b[0m\n",
            "\u001b[0;32m/content/DFTDescriptorPipeline/descriptors/extractor_regr.py\u001b[0m in \u001b[0;36mplot_best_regression\u001b[0;34m(df, best_model, savepath)\u001b[0m\n\u001b[1;32m    422\u001b[0m     \u001b[0mcoefficients\u001b[0m \u001b[0;34m=\u001b[0m \u001b[0mnp\u001b[0m\u001b[0;34m.\u001b[0m\u001b[0marray\u001b[0m\u001b[0;34m(\u001b[0m\u001b[0mbest_model\u001b[0m\u001b[0;34m[\u001b[0m\u001b[0;34m'coefficients'\u001b[0m\u001b[0;34m]\u001b[0m\u001b[0;34m)\u001b[0m\u001b[0;34m\u001b[0m\u001b[0;34m\u001b[0m\u001b[0m\n\u001b[1;32m    423\u001b[0m     \u001b[0mintercept\u001b[0m \u001b[0;34m=\u001b[0m \u001b[0mbest_model\u001b[0m\u001b[0;34m[\u001b[0m\u001b[0;34m'intercept'\u001b[0m\u001b[0;34m]\u001b[0m\u001b[0;34m\u001b[0m\u001b[0;34m\u001b[0m\u001b[0m\n\u001b[0;32m--> 424\u001b[0;31m     \u001b[0my_actual\u001b[0m \u001b[0;34m=\u001b[0m \u001b[0mdf\u001b[0m\u001b[0;34m[\u001b[0m\u001b[0;34m'ddG'\u001b[0m\u001b[0;34m]\u001b[0m\u001b[0;34m\u001b[0m\u001b[0;34m\u001b[0m\u001b[0m\n\u001b[0m\u001b[1;32m    425\u001b[0m     \u001b[0mX_values\u001b[0m \u001b[0;34m=\u001b[0m \u001b[0mdf\u001b[0m\u001b[0;34m[\u001b[0m\u001b[0mX_columns\u001b[0m\u001b[0;34m]\u001b[0m\u001b[0;34m.\u001b[0m\u001b[0mvalues\u001b[0m\u001b[0;34m\u001b[0m\u001b[0;34m\u001b[0m\u001b[0m\n\u001b[1;32m    426\u001b[0m     \u001b[0my_pred\u001b[0m \u001b[0;34m=\u001b[0m \u001b[0mnp\u001b[0m\u001b[0;34m.\u001b[0m\u001b[0mdot\u001b[0m\u001b[0;34m(\u001b[0m\u001b[0mX_values\u001b[0m\u001b[0;34m,\u001b[0m \u001b[0mcoefficients\u001b[0m\u001b[0;34m)\u001b[0m \u001b[0;34m+\u001b[0m \u001b[0mintercept\u001b[0m\u001b[0;34m\u001b[0m\u001b[0;34m\u001b[0m\u001b[0m\n",
            "\u001b[0;32m/usr/local/lib/python3.11/dist-packages/pandas/core/frame.py\u001b[0m in \u001b[0;36m__getitem__\u001b[0;34m(self, key)\u001b[0m\n\u001b[1;32m   4100\u001b[0m             \u001b[0;32mif\u001b[0m \u001b[0mself\u001b[0m\u001b[0;34m.\u001b[0m\u001b[0mcolumns\u001b[0m\u001b[0;34m.\u001b[0m\u001b[0mnlevels\u001b[0m \u001b[0;34m>\u001b[0m \u001b[0;36m1\u001b[0m\u001b[0;34m:\u001b[0m\u001b[0;34m\u001b[0m\u001b[0;34m\u001b[0m\u001b[0m\n\u001b[1;32m   4101\u001b[0m                 \u001b[0;32mreturn\u001b[0m \u001b[0mself\u001b[0m\u001b[0;34m.\u001b[0m\u001b[0m_getitem_multilevel\u001b[0m\u001b[0;34m(\u001b[0m\u001b[0mkey\u001b[0m\u001b[0;34m)\u001b[0m\u001b[0;34m\u001b[0m\u001b[0;34m\u001b[0m\u001b[0m\n\u001b[0;32m-> 4102\u001b[0;31m             \u001b[0mindexer\u001b[0m \u001b[0;34m=\u001b[0m \u001b[0mself\u001b[0m\u001b[0;34m.\u001b[0m\u001b[0mcolumns\u001b[0m\u001b[0;34m.\u001b[0m\u001b[0mget_loc\u001b[0m\u001b[0;34m(\u001b[0m\u001b[0mkey\u001b[0m\u001b[0;34m)\u001b[0m\u001b[0;34m\u001b[0m\u001b[0;34m\u001b[0m\u001b[0m\n\u001b[0m\u001b[1;32m   4103\u001b[0m             \u001b[0;32mif\u001b[0m \u001b[0mis_integer\u001b[0m\u001b[0;34m(\u001b[0m\u001b[0mindexer\u001b[0m\u001b[0;34m)\u001b[0m\u001b[0;34m:\u001b[0m\u001b[0;34m\u001b[0m\u001b[0;34m\u001b[0m\u001b[0m\n\u001b[1;32m   4104\u001b[0m                 \u001b[0mindexer\u001b[0m \u001b[0;34m=\u001b[0m \u001b[0;34m[\u001b[0m\u001b[0mindexer\u001b[0m\u001b[0;34m]\u001b[0m\u001b[0;34m\u001b[0m\u001b[0;34m\u001b[0m\u001b[0m\n",
            "\u001b[0;32m/usr/local/lib/python3.11/dist-packages/pandas/core/indexes/base.py\u001b[0m in \u001b[0;36mget_loc\u001b[0;34m(self, key)\u001b[0m\n\u001b[1;32m   3810\u001b[0m             ):\n\u001b[1;32m   3811\u001b[0m                 \u001b[0;32mraise\u001b[0m \u001b[0mInvalidIndexError\u001b[0m\u001b[0;34m(\u001b[0m\u001b[0mkey\u001b[0m\u001b[0;34m)\u001b[0m\u001b[0;34m\u001b[0m\u001b[0;34m\u001b[0m\u001b[0m\n\u001b[0;32m-> 3812\u001b[0;31m             \u001b[0;32mraise\u001b[0m \u001b[0mKeyError\u001b[0m\u001b[0;34m(\u001b[0m\u001b[0mkey\u001b[0m\u001b[0;34m)\u001b[0m \u001b[0;32mfrom\u001b[0m \u001b[0merr\u001b[0m\u001b[0;34m\u001b[0m\u001b[0;34m\u001b[0m\u001b[0m\n\u001b[0m\u001b[1;32m   3813\u001b[0m         \u001b[0;32mexcept\u001b[0m \u001b[0mTypeError\u001b[0m\u001b[0;34m:\u001b[0m\u001b[0;34m\u001b[0m\u001b[0;34m\u001b[0m\u001b[0m\n\u001b[1;32m   3814\u001b[0m             \u001b[0;31m# If we have a listlike key, _check_indexing_error will raise\u001b[0m\u001b[0;34m\u001b[0m\u001b[0;34m\u001b[0m\u001b[0m\n",
            "\u001b[0;31mKeyError\u001b[0m: 'ddG'"
          ]
        }
      ]
    }
  ]
}